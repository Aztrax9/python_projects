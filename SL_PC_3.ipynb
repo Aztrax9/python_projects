{
  "nbformat": 4,
  "nbformat_minor": 0,
  "metadata": {
    "colab": {
      "provenance": [],
      "authorship_tag": "ABX9TyO5j3W7G/pX1bSXH8cGzMaT"
    },
    "kernelspec": {
      "name": "python3",
      "display_name": "Python 3"
    },
    "language_info": {
      "name": "python"
    }
  },
  "cells": [
    {
      "cell_type": "code",
      "execution_count": null,
      "metadata": {
        "id": "ttJX9TqJHkBZ"
      },
      "outputs": [],
      "source": [
        "print(\"TRIANGLE CALCULATOR\")\n",
        "\n",
        "S_1 = int(input(\"What's the first side of your triangle? \"))\n",
        "S_2 = int(input(\"What's the second side of your triangle? \"))\n",
        "S_3 = int(input(\"What's the third side of your triangle? \"))\n",
        "\n",
        "A_1 = int(input(\"Now, what's the first angle of your triangle? (in degrees) \"))\n",
        "A_2 = int(input(\"What's the second angle of your triangle? (in degrees) \"))\n",
        "A_3 = int(input(\"What's the third angle of your triangle? (in degrees) \"))\n",
        "\n",
        "if A_1 + A_2 + A_3 != 180:\n",
        "    print(\"These angles do not form a triangle!\")\n",
        "elif (S_1 + S_2 <= S_3) or (S_2 + S_3 <= S_1) or (S_3 + S_1 <= S_2):\n",
        "    print(\"These sides do not form a triangle!\")\n",
        "else:\n",
        "    if S_1 == S_2 == S_3 and A_1 == A_2 == A_3:\n",
        "        print(\"Your triangle is equilateral!\")\n",
        "    elif (S_1 == S_2 or S_2 == S_3 or S_3 == S_1) or (A_1 == A_2 or A_2 == A_3 or A_3 == A_1):\n",
        "        print(\"Your triangle is isosceles!\")\n",
        "    else:\n",
        "        print(\"Your triangle is scalene!\")"
      ]
    }
  ]
}