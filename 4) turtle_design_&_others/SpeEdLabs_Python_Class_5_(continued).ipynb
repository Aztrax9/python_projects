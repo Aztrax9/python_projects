{
  "nbformat": 4,
  "nbformat_minor": 0,
  "metadata": {
    "colab": {
      "provenance": [],
      "authorship_tag": "ABX9TyPp16E9ijFiL7N6xBciXhav",
      "include_colab_link": true
    },
    "kernelspec": {
      "name": "python3",
      "display_name": "Python 3"
    },
    "language_info": {
      "name": "python"
    }
  },
  "cells": [
    {
      "cell_type": "markdown",
      "metadata": {
        "id": "view-in-github",
        "colab_type": "text"
      },
      "source": [
        "<a href=\"https://colab.research.google.com/github/aztrax7/python_projects/blob/main/SpeEdLabs_Python_Class_5_(continued).ipynb\" target=\"_parent\"><img src=\"https://colab.research.google.com/assets/colab-badge.svg\" alt=\"Open In Colab\"/></a>"
      ]
    },
    {
      "cell_type": "code",
      "execution_count": null,
      "metadata": {
        "id": "UK8uEvAn2QVk"
      },
      "outputs": [],
      "source": [
        "#TURTLE CIRCLE WITH SQUARES ON OUTSIDE AND DOTS AT THE END OF EACH SQUARE\n",
        "\n",
        "from turtle import *\n",
        "t=Turtle()\n",
        "s=Screen()\n",
        "for i in range(18):\n",
        "  t.circle(80,20)\n",
        "  t.dot(10)\n",
        "  for j in range(4):\n",
        "    t.left(-90)\n",
        "    t.forward(20)"
      ]
    },
    {
      "cell_type": "code",
      "source": [
        "#Print this output:\n",
        "   #Value of i: 0\n",
        "   #0 1 2 3 4 5 6 7 8 9\n",
        "   #Value of i: 1\n",
        "   #0 1 2 3 4 5 6 7 8 9\n",
        "   #Value of i: 2\n",
        "   #0 1 2 3 4 5 6 7 8 9\n",
        "   #Value of i: 3\n",
        "   #0 1 2 3 4 5 6 7 8 9\n",
        "   #Value of i: 4\n",
        "   #0 1 2 3 4 5 6 7 8 9\n",
        "   #Value of i: 5\n",
        "   #0 1 2 3 4 5 6 7 8 9\n",
        "\n",
        "x = int(input(\"Enter value of i: \"))\n",
        "for i in range(x+1):\n",
        "  print(\"Value of i:\", i)\n",
        "  for j in range(10):\n",
        "    print(j)"
      ],
      "metadata": {
        "id": "7eEqqv-D6JJq"
      },
      "execution_count": null,
      "outputs": []
    },
    {
      "cell_type": "code",
      "source": [
        "print(\"MULTIPLICATION TABLES FROM n TO 10\")\n",
        "\n",
        "n = int(input(\"Enter the starting number (n): \"))\n",
        "\n",
        "for i in range(n, 11):  # from n to 10 (inclusive)\n",
        "    print(f\"\\nMultiplication Table of {i}\")\n",
        "    for j in range(1, 11):\n",
        "        print(f\"{i} x {j} = {i*j}\")"
      ],
      "metadata": {
        "id": "yS4I8EWy87Ni"
      },
      "execution_count": null,
      "outputs": []
    }
  ]
}
