{
  "nbformat": 4,
  "nbformat_minor": 0,
  "metadata": {
    "colab": {
      "provenance": [],
      "authorship_tag": "ABX9TyNIhG31zcDD5uMonh/Xjk+6",
      "include_colab_link": true
    },
    "kernelspec": {
      "name": "python3",
      "display_name": "Python 3"
    },
    "language_info": {
      "name": "python"
    }
  },
  "cells": [
    {
      "cell_type": "markdown",
      "metadata": {
        "id": "view-in-github",
        "colab_type": "text"
      },
      "source": [
        "<a href=\"https://colab.research.google.com/github/Aztrax9/python_projects/blob/main/SpeEdLabs_Python_Class_6.ipynb\" target=\"_parent\"><img src=\"https://colab.research.google.com/assets/colab-badge.svg\" alt=\"Open In Colab\"/></a>"
      ]
    },
    {
      "cell_type": "code",
      "execution_count": null,
      "metadata": {
        "id": "enuRXQOQFQ-q"
      },
      "outputs": [],
      "source": [
        "#Print this output:\n",
        "#*\n",
        "\n",
        "#* *\n",
        "\n",
        "#* * *\n",
        "\n",
        "#* * * *\n",
        "\n",
        "#* * * * *\n",
        "\n",
        "n = int(input(\"Enter number of rows of stars you want:\"))\n",
        "\n",
        "for i in range(1,n+1):\n",
        "  for j in range(i):\n",
        "    print(\"*\", end = ' ')\n",
        "  print(\"\\n\")"
      ]
    },
    {
      "cell_type": "code",
      "source": [
        "#Print this output:\n",
        "#1\n",
        "\n",
        "#1 2\n",
        "\n",
        "#1 2 3\n",
        "\n",
        "#1 2 3 4\n",
        "\n",
        "#1 2 3 4 5\n",
        "\n",
        "n = int(input(\"Enter number of rows of numbers you want:\"))\n",
        "\n",
        "for i in range(1,n+1):\n",
        "  for j in range(1,i+1):\n",
        "    print(j, end = ' ')\n",
        "  print(\"\\n\")"
      ],
      "metadata": {
        "id": "g0oYH09qGbdW"
      },
      "execution_count": null,
      "outputs": []
    },
    {
      "cell_type": "code",
      "source": [
        "#Print this output:\n",
        "#5\n",
        "\n",
        "#4 4\n",
        "\n",
        "#3 3 3\n",
        "\n",
        "#2 2 2 2\n",
        "\n",
        "#1 1 1 1 1\n",
        "\n",
        "n = int(input(\"Enter number of rows of numbers you want:\"))\n",
        "C = 5\n",
        "for i in range(1,n+1):\n",
        "  for j in range(1,i+1):\n",
        "    print(C, end = ' ')\n",
        "  print(\"\\n\")\n",
        "  C -= 1"
      ],
      "metadata": {
        "id": "irF5uz_3HStu"
      },
      "execution_count": null,
      "outputs": []
    },
    {
      "cell_type": "code",
      "source": [
        "#Print this output:\n",
        "#     1\n",
        "\n",
        "#    1 2\n",
        "\n",
        "#   1 2 3\n",
        "\n",
        "#  1 2 3 4\n",
        "\n",
        "# 1 2 3 4 5\n",
        "\n",
        "n = int(input(\"Enter number of rows of numbers you want:\"))\n",
        "\n",
        "for i in range(1,n+1):\n",
        "  print(' ' * (n - i), end = '')\n",
        "  for j in range(1,i+1):\n",
        "    print(j, end = ' ')\n",
        "  print(\"\\n\")"
      ],
      "metadata": {
        "id": "uyyRYhzZJpkB"
      },
      "execution_count": null,
      "outputs": []
    },
    {
      "cell_type": "code",
      "source": [
        "#Print this output:\n",
        "#     *\n",
        "\n",
        "#    * *\n",
        "\n",
        "#   * * *\n",
        "\n",
        "#  * * * *\n",
        "\n",
        "# * * * * *\n",
        "\n",
        "n = int(input(\"Enter number of rows of numbers you want:\"))\n",
        "\n",
        "for i in range(1,n+1):\n",
        "  print(' ' * (n - i), end = '')\n",
        "  for j in range(1,i+1):\n",
        "    print(\"*\", end = ' ')\n",
        "  print(\"\\n\")"
      ],
      "metadata": {
        "id": "xPdH8v7NO9JB"
      },
      "execution_count": null,
      "outputs": []
    },
    {
      "cell_type": "code",
      "source": [
        "#Print this output:\n",
        "#         1\n",
        "\n",
        "#       1 2\n",
        "\n",
        "#     1 2 3\n",
        "\n",
        "#   1 2 3 4\n",
        "\n",
        "# 1 2 3 4 5\n",
        "\n",
        "\n",
        "n = int(input(\"Enter number of rows of numbers you want:\"))\n",
        "\n",
        "for i in range(1,n+1):\n",
        "  print(' ' * (2*(n - i)), end = '')\n",
        "  for j in range(1,i+1):\n",
        "    print(j, end = ' ')\n",
        "  print(\"\\n\")"
      ],
      "metadata": {
        "id": "Za3DQlpVNVhK"
      },
      "execution_count": null,
      "outputs": []
    },
    {
      "cell_type": "code",
      "source": [
        "#Bill totaler\n",
        "#Please enter the amount of each bill, when prompted. Enter 0 as the amount to quit.\n",
        "\n",
        "print(\"Bill totaler\")\n",
        "print(\"Please enter the amount of each bill, when prompted. Enter 0 as the amount to quit.\")\n",
        "\n",
        "bill = int(input(\"Enter your first bill amount:\"))\n",
        "sum = 0\n",
        "while bill > 0:\n",
        "  sum = sum + bill\n",
        "  print(\"Total sum of your bill till now\", sum)\n",
        "  bill = int(input(\"Enter your next bill amount:\"))\n"
      ],
      "metadata": {
        "colab": {
          "base_uri": "https://localhost:8080/"
        },
        "id": "R1w2UPKbPj8k",
        "outputId": "5c14f7a3-79c0-4e80-d0e7-c30e6b23cf6e"
      },
      "execution_count": null,
      "outputs": [
        {
          "name": "stdout",
          "output_type": "stream",
          "text": [
            "Bill totaler\n",
            "Please enter the amount of each bill, when prompted. Enter 0 as the amount to quit.\n",
            "Enter your first bill amount:54\n",
            "Total sum of your bill till now 54\n",
            "Enter your next bill amount:54\n",
            "Total sum of your bill till now 108\n",
            "Enter your next bill amount:107\n",
            "Total sum of your bill till now 215\n",
            "Enter your next bill amount:200\n",
            "Total sum of your bill till now 415\n",
            "Enter your next bill amount:2392\n",
            "Total sum of your bill till now 2807\n",
            "Enter your next bill amount:9393920\n",
            "Total sum of your bill till now 9396727\n",
            "Enter your next bill amount:0\n"
          ]
        }
      ]
    }
  ]
}
