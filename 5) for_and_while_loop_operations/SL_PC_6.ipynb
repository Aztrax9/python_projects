{
  "nbformat": 4,
  "nbformat_minor": 0,
  "metadata": {
    "colab": {
      "provenance": [],
      "authorship_tag": "ABX9TyNIhG31zcDD5uMonh/Xjk+6"
    },
    "kernelspec": {
      "name": "python3",
      "display_name": "Python 3"
    },
    "language_info": {
      "name": "python"
    }
  },
  "cells": [
    {
      "cell_type": "code",
      "execution_count": null,
      "metadata": {
        "id": "enuRXQOQFQ-q"
      },
      "outputs": [],
      "source": [
        "#Print this output:\n",
        "#*\n",
        "\n",
        "#* *\n",
        "\n",
        "#* * *\n",
        "\n",
        "#* * * *\n",
        "\n",
        "#* * * * *\n",
        "\n",
        "n = int(input(\"Enter number of rows of stars you want:\"))\n",
        "\n",
        "for i in range(1,n+1):\n",
        "  for j in range(i):\n",
        "    print(\"*\", end = ' ')\n",
        "  print(\"\\n\")"
      ]
    },
    {
      "cell_type": "code",
      "source": [
        "#Print this output:\n",
        "#1\n",
        "\n",
        "#1 2\n",
        "\n",
        "#1 2 3\n",
        "\n",
        "#1 2 3 4\n",
        "\n",
        "#1 2 3 4 5\n",
        "\n",
        "n = int(input(\"Enter number of rows of numbers you want:\"))\n",
        "\n",
        "for i in range(1,n+1):\n",
        "  for j in range(1,i+1):\n",
        "    print(j, end = ' ')\n",
        "  print(\"\\n\")"
      ],
      "metadata": {
        "id": "g0oYH09qGbdW"
      },
      "execution_count": null,
      "outputs": []
    },
    {
      "cell_type": "code",
      "source": [
        "#Print this output:\n",
        "#5\n",
        "\n",
        "#4 4\n",
        "\n",
        "#3 3 3\n",
        "\n",
        "#2 2 2 2\n",
        "\n",
        "#1 1 1 1 1\n",
        "\n",
        "n = int(input(\"Enter number of rows of numbers you want:\"))\n",
        "C = 5\n",
        "for i in range(1,n+1):\n",
        "  for j in range(1,i+1):\n",
        "    print(C, end = ' ')\n",
        "  print(\"\\n\")\n",
        "  C -= 1"
      ],
      "metadata": {
        "id": "irF5uz_3HStu"
      },
      "execution_count": null,
      "outputs": []
    },
    {
      "cell_type": "code",
      "source": [
        "#Print this output:\n",
        "#     1\n",
        "\n",
        "#    1 2\n",
        "\n",
        "#   1 2 3\n",
        "\n",
        "#  1 2 3 4\n",
        "\n",
        "# 1 2 3 4 5\n",
        "\n",
        "n = int(input(\"Enter number of rows of numbers you want:\"))\n",
        "\n",
        "for i in range(1,n+1):\n",
        "  print(' ' * (n - i), end = '')\n",
        "  for j in range(1,i+1):\n",
        "    print(j, end = ' ')\n",
        "  print(\"\\n\")"
      ],
      "metadata": {
        "id": "uyyRYhzZJpkB"
      },
      "execution_count": null,
      "outputs": []
    },
    {
      "cell_type": "code",
      "source": [
        "#Print this output:\n",
        "#     *\n",
        "\n",
        "#    * *\n",
        "\n",
        "#   * * *\n",
        "\n",
        "#  * * * *\n",
        "\n",
        "# * * * * *\n",
        "\n",
        "n = int(input(\"Enter number of rows of numbers you want:\"))\n",
        "\n",
        "for i in range(1,n+1):\n",
        "  print(' ' * (n - i), end = '')\n",
        "  for j in range(1,i+1):\n",
        "    print(\"*\", end = ' ')\n",
        "  print(\"\\n\")"
      ],
      "metadata": {
        "id": "xPdH8v7NO9JB"
      },
      "execution_count": null,
      "outputs": []
    },
    {
      "cell_type": "code",
      "source": [
        "#Print this output:\n",
        "#         1\n",
        "\n",
        "#       1 2\n",
        "\n",
        "#     1 2 3\n",
        "\n",
        "#   1 2 3 4\n",
        "\n",
        "# 1 2 3 4 5\n",
        "\n",
        "\n",
        "n = int(input(\"Enter number of rows of numbers you want:\"))\n",
        "\n",
        "for i in range(1,n+1):\n",
        "  print(' ' * (2*(n - i)), end = '')\n",
        "  for j in range(1,i+1):\n",
        "    print(j, end = ' ')\n",
        "  print(\"\\n\")"
      ],
      "metadata": {
        "id": "Za3DQlpVNVhK"
      },
      "execution_count": null,
      "outputs": []
    },
    {
      "cell_type": "code",
      "source": [
        "#Bill totaler\n",
        "#Please enter the amount of each bill, when prompted. Enter 0 as the amount to quit.\n",
        "\n",
        "print(\"Bill totaler\")\n",
        "print(\"Please enter the amount of each bill, when prompted. Enter 0 as the amount to quit.\")\n",
        "\n",
        "bill = int(input(\"Enter your first bill amount:\"))\n",
        "sum = 0\n",
        "while bill > 0:\n",
        "  sum = sum + bill\n",
        "  print(\"Total sum of your bill till now\", sum)\n",
        "  bill = int(input(\"Enter your next bill amount:\"))\n"
      ],
      "metadata": {
        "id": "R1w2UPKbPj8k"
      },
      "execution_count": null,
      "outputs": []
    }
  ]
}
