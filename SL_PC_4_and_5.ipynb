{
  "nbformat": 4,
  "nbformat_minor": 0,
  "metadata": {
    "colab": {
      "provenance": [],
      "authorship_tag": "ABX9TyMMMn02mSIkCvqRExZ4LUsX"
    },
    "kernelspec": {
      "name": "python3",
      "display_name": "Python 3"
    },
    "language_info": {
      "name": "python"
    }
  },
  "cells": [
    {
      "cell_type": "code",
      "execution_count": null,
      "metadata": {
        "id": "BLA96B1DCoEL"
      },
      "outputs": [],
      "source": [
        "#Class 4\n",
        "\n",
        "#EQUALITY CHECKER\n",
        "print(\"EQUALITY CHECKER\")\n",
        "\n",
        "x = int(input(\"Enter your first number: \"))\n",
        "y = int(input(\"Enter your second number: \"))\n",
        "z = int(input(\"Enter your third number: \"))\n",
        "\n",
        "if x == y == z:\n",
        "  print(\"Your numbers are equal.\")\n",
        "elif x == y and y != z:\n",
        "  print(x, \"and\", y,\",that is, Numbers 1 and 2, are equal.\")\n",
        "elif y == z and z != x:\n",
        "  print(y, \"and\", z,\",that is, Numbers 2 and 3, are equal.\")\n",
        "elif z == x and x != y:\n",
        "  print(x, \"and\", z,\",that is, Numbers 1 and 3, are equal.\")\n",
        "elif x > y and x > z:\n",
        "  print(x,\",that is, Number 1, is the greatest of them all.\")\n",
        "elif y > x and y > z:\n",
        "  print(y,\",that is, Number 2, is the greatest of them all.\")\n",
        "elif z > x and z > y:\n",
        "  print(z,\",that is, Number 3, is the greatest of them all.\")\n",
        "else:\n",
        "  print(\"Error\")"
      ]
    },
    {
      "cell_type": "code",
      "source": [
        "#ELECTRICITY BILL GENERATOR\n",
        "print(\"ELECTRICITY BILL GENERATOR\")\n",
        "\n",
        "U = int(input(\"Enter the amount of units of electricity you have used: \"))\n",
        "SC = 0.2*U\n",
        "\n",
        "if U <= 150:\n",
        "  print(float(U*0.5) + SC, \"is your final bill.\")\n",
        "elif 150 < U <= 250:\n",
        "  print(float(150*0.5) + float((U-150)*1.2) + SC, \"is your final bill.\")\n",
        "elif U > 250:\n",
        "  print(float(150*0.5) + float(100*1.2) + float((U-250)*1.5) + SC, \"is your final bill.\")\n",
        "else:\n",
        "  print(\"Error.\")"
      ],
      "metadata": {
        "id": "j3Dw68LVO1Zx"
      },
      "execution_count": null,
      "outputs": []
    },
    {
      "cell_type": "code",
      "source": [
        "#ITERATOR\n",
        "print(\"ITERATOR\")\n",
        "\n",
        "n = int(input(\"Enter n: \"))\n",
        "for i in range(1,n+1):\n",
        "  print(i)"
      ],
      "metadata": {
        "id": "H4MMfGtxO2YI"
      },
      "execution_count": null,
      "outputs": []
    },
    {
      "cell_type": "code",
      "source": [
        "# EVEN OR ODD NUMBER\n",
        "\n",
        "n = int(input(\"Enter n: \"))\n",
        "\n",
        "print(\"\\nEven numbers from 1 to\", n, \"are:\")\n",
        "for i in range(1, n+1):\n",
        "    if i % 2 == 0:\n",
        "        print(i, end=\" \")\n",
        "\n",
        "print(\"\\n\\nOdd numbers from 1 to\", n, \"are:\")\n",
        "for i in range(1, n+1):\n",
        "    if i % 2 != 0:\n",
        "        print(i, end=\" \")"
      ],
      "metadata": {
        "id": "IgTv8GYOO7UY"
      },
      "execution_count": null,
      "outputs": []
    },
    {
      "cell_type": "code",
      "source": [
        "#Class 5\n",
        "\n",
        "#SUM OF FIRST 'n' NATURAL NUMBERS\n",
        "\n",
        "n = int(input(\"Enter n: \"))\n",
        "S=0\n",
        "for i in range(1,n+1):\n",
        "  S += i\n",
        "print(\"The sum of first\", n, \"natural numbers is\", S)"
      ],
      "metadata": {
        "id": "-h8zz81QyeYj"
      },
      "execution_count": null,
      "outputs": []
    },
    {
      "cell_type": "code",
      "source": [
        "#MULTIPLICATION TABLE (till 10)\n",
        "print(\"MULTIPLICATION TABLE\")\n",
        "n = int(input(\"Enter n: \"))\n",
        "M = 1\n",
        "\n",
        "print(\"The multiplication table from\",n,\"to 10 multipliers is:\")\n",
        "\n",
        "for i in range(11):\n",
        "  M = n*i\n",
        "  print(n,\"*\",i,\"=\", M)"
      ],
      "metadata": {
        "id": "dIPGlwFW1uwM"
      },
      "execution_count": null,
      "outputs": []
    },
    {
      "cell_type": "code",
      "source": [
        "#MULTIPLICATION TABLE(with multiplier specified by user)\n",
        "\n",
        "print(\"MULTIPLICATION TABLE\")\n",
        "n = int(input(\"Enter n: \"))\n",
        "Multiplier = int(input(\"Enter product limit:\"))\n",
        "M = 1\n",
        "\n",
        "print(\"The multiplication table from\",n,\"to 10 is:\", M)\n",
        "\n",
        "for i in range(1,Multiplier+1):\n",
        "  M = n*i\n",
        "  print(n,\"*\",i,\"=\", M)"
      ],
      "metadata": {
        "id": "jAIgjGY8zu1M"
      },
      "execution_count": null,
      "outputs": []
    }
  ]
}