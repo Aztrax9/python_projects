{
  "nbformat": 4,
  "nbformat_minor": 0,
  "metadata": {
    "colab": {
      "provenance": [],
      "authorship_tag": "ABX9TyO5j3W7G/pX1bSXH8cGzMaT",
      "include_colab_link": true
    },
    "kernelspec": {
      "name": "python3",
      "display_name": "Python 3"
    },
    "language_info": {
      "name": "python"
    }
  },
  "cells": [
    {
      "cell_type": "markdown",
      "metadata": {
        "id": "view-in-github",
        "colab_type": "text"
      },
      "source": [
        "<a href=\"https://colab.research.google.com/github/Aztrax9/python_projects/blob/main/SpeEdLabs_Python_Class_3.ipynb\" target=\"_parent\"><img src=\"https://colab.research.google.com/assets/colab-badge.svg\" alt=\"Open In Colab\"/></a>"
      ]
    },
    {
      "cell_type": "code",
      "execution_count": null,
      "metadata": {
        "colab": {
          "base_uri": "https://localhost:8080/"
        },
        "id": "ttJX9TqJHkBZ",
        "outputId": "abefea66-73d6-4ba3-c728-d6b184efc41d"
      },
      "outputs": [
        {
          "output_type": "stream",
          "name": "stdout",
          "text": [
            "TRIANGLE CALCULATOR\n",
            "What's the first side of your triangle? 5\n",
            "What's the second side of your triangle? 2\n",
            "What's the third side of your triangle? 3\n",
            "Now, what's the first angle of your triangle? (in degrees) 61\n",
            "What's the second angle of your triangle? (in degrees) 39\n",
            "What's the third angle of your triangle? (in degrees) 80\n",
            "These sides do not form a triangle!\n"
          ]
        }
      ],
      "source": [
        "print(\"TRIANGLE CALCULATOR\")\n",
        "\n",
        "S_1 = int(input(\"What's the first side of your triangle? \"))\n",
        "S_2 = int(input(\"What's the second side of your triangle? \"))\n",
        "S_3 = int(input(\"What's the third side of your triangle? \"))\n",
        "\n",
        "A_1 = int(input(\"Now, what's the first angle of your triangle? (in degrees) \"))\n",
        "A_2 = int(input(\"What's the second angle of your triangle? (in degrees) \"))\n",
        "A_3 = int(input(\"What's the third angle of your triangle? (in degrees) \"))\n",
        "\n",
        "if A_1 + A_2 + A_3 != 180:\n",
        "    print(\"These angles do not form a triangle!\")\n",
        "elif (S_1 + S_2 <= S_3) or (S_2 + S_3 <= S_1) or (S_3 + S_1 <= S_2):\n",
        "    print(\"These sides do not form a triangle!\")\n",
        "else:\n",
        "    if S_1 == S_2 == S_3 and A_1 == A_2 == A_3:\n",
        "        print(\"Your triangle is equilateral!\")\n",
        "    elif (S_1 == S_2 or S_2 == S_3 or S_3 == S_1) or (A_1 == A_2 or A_2 == A_3 or A_3 == A_1):\n",
        "        print(\"Your triangle is isosceles!\")\n",
        "    else:\n",
        "        print(\"Your triangle is scalene!\")"
      ]
    }
  ]
}
