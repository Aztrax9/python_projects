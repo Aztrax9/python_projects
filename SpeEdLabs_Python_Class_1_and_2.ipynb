{
  "nbformat": 4,
  "nbformat_minor": 0,
  "metadata": {
    "colab": {
      "provenance": [],
      "authorship_tag": "ABX9TyN0DiHb4y6F3J0i1IYet4KV",
      "include_colab_link": true
    },
    "kernelspec": {
      "name": "python3",
      "display_name": "Python 3"
    },
    "language_info": {
      "name": "python"
    }
  },
  "cells": [
    {
      "cell_type": "markdown",
      "metadata": {
        "id": "view-in-github",
        "colab_type": "text"
      },
      "source": [
        "<a href=\"https://colab.research.google.com/github/Aztrax9/python_projects/blob/main/SpeEdLabs_Python_Class_1_and_2.ipynb\" target=\"_parent\"><img src=\"https://colab.research.google.com/assets/colab-badge.svg\" alt=\"Open In Colab\"/></a>"
      ]
    },
    {
      "cell_type": "code",
      "execution_count": 1,
      "metadata": {
        "id": "TnCBCexj0vDP",
        "colab": {
          "base_uri": "https://localhost:8080/",
          "height": 370
        },
        "outputId": "8e12f4bb-b1f0-4408-da81-af24407f441a"
      },
      "outputs": [
        {
          "output_type": "error",
          "ename": "KeyboardInterrupt",
          "evalue": "Interrupted by user",
          "traceback": [
            "\u001b[0;31m---------------------------------------------------------------------------\u001b[0m",
            "\u001b[0;31mKeyboardInterrupt\u001b[0m                         Traceback (most recent call last)",
            "\u001b[0;32m/tmp/ipython-input-1-3810507738.py\u001b[0m in \u001b[0;36m<cell line: 0>\u001b[0;34m()\u001b[0m\n\u001b[1;32m     34\u001b[0m \u001b[0mt_now\u001b[0m \u001b[0;34m=\u001b[0m \u001b[0mt\u001b[0m\u001b[0;34m.\u001b[0m\u001b[0mstrftime\u001b[0m\u001b[0;34m(\u001b[0m\u001b[0;34m\"%H:%M:%S\"\u001b[0m\u001b[0;34m)\u001b[0m\u001b[0;34m\u001b[0m\u001b[0;34m\u001b[0m\u001b[0m\n\u001b[1;32m     35\u001b[0m \u001b[0;34m\u001b[0m\u001b[0m\n\u001b[0;32m---> 36\u001b[0;31m \u001b[0mItem_1\u001b[0m \u001b[0;34m=\u001b[0m \u001b[0minput\u001b[0m\u001b[0;34m(\u001b[0m\u001b[0;34m\"Enter the name of your first item\"\u001b[0m\u001b[0;34m)\u001b[0m\u001b[0;34m\u001b[0m\u001b[0;34m\u001b[0m\u001b[0m\n\u001b[0m\u001b[1;32m     37\u001b[0m \u001b[0mItem_2\u001b[0m \u001b[0;34m=\u001b[0m \u001b[0minput\u001b[0m\u001b[0;34m(\u001b[0m\u001b[0;34m\"Enter the name of your second item\"\u001b[0m\u001b[0;34m)\u001b[0m\u001b[0;34m\u001b[0m\u001b[0;34m\u001b[0m\u001b[0m\n\u001b[1;32m     38\u001b[0m \u001b[0mItem_3\u001b[0m \u001b[0;34m=\u001b[0m \u001b[0minput\u001b[0m\u001b[0;34m(\u001b[0m\u001b[0;34m\"Enter the name of your third item\"\u001b[0m\u001b[0;34m)\u001b[0m\u001b[0;34m\u001b[0m\u001b[0;34m\u001b[0m\u001b[0m\n",
            "\u001b[0;32m/usr/local/lib/python3.11/dist-packages/ipykernel/kernelbase.py\u001b[0m in \u001b[0;36mraw_input\u001b[0;34m(self, prompt)\u001b[0m\n\u001b[1;32m   1175\u001b[0m                 \u001b[0;34m\"raw_input was called, but this frontend does not support input requests.\"\u001b[0m\u001b[0;34m\u001b[0m\u001b[0;34m\u001b[0m\u001b[0m\n\u001b[1;32m   1176\u001b[0m             )\n\u001b[0;32m-> 1177\u001b[0;31m         return self._input_request(\n\u001b[0m\u001b[1;32m   1178\u001b[0m             \u001b[0mstr\u001b[0m\u001b[0;34m(\u001b[0m\u001b[0mprompt\u001b[0m\u001b[0;34m)\u001b[0m\u001b[0;34m,\u001b[0m\u001b[0;34m\u001b[0m\u001b[0;34m\u001b[0m\u001b[0m\n\u001b[1;32m   1179\u001b[0m             \u001b[0mself\u001b[0m\u001b[0;34m.\u001b[0m\u001b[0m_parent_ident\u001b[0m\u001b[0;34m[\u001b[0m\u001b[0;34m\"shell\"\u001b[0m\u001b[0;34m]\u001b[0m\u001b[0;34m,\u001b[0m\u001b[0;34m\u001b[0m\u001b[0;34m\u001b[0m\u001b[0m\n",
            "\u001b[0;32m/usr/local/lib/python3.11/dist-packages/ipykernel/kernelbase.py\u001b[0m in \u001b[0;36m_input_request\u001b[0;34m(self, prompt, ident, parent, password)\u001b[0m\n\u001b[1;32m   1217\u001b[0m             \u001b[0;32mexcept\u001b[0m \u001b[0mKeyboardInterrupt\u001b[0m\u001b[0;34m:\u001b[0m\u001b[0;34m\u001b[0m\u001b[0;34m\u001b[0m\u001b[0m\n\u001b[1;32m   1218\u001b[0m                 \u001b[0;31m# re-raise KeyboardInterrupt, to truncate traceback\u001b[0m\u001b[0;34m\u001b[0m\u001b[0;34m\u001b[0m\u001b[0m\n\u001b[0;32m-> 1219\u001b[0;31m                 \u001b[0;32mraise\u001b[0m \u001b[0mKeyboardInterrupt\u001b[0m\u001b[0;34m(\u001b[0m\u001b[0;34m\"Interrupted by user\"\u001b[0m\u001b[0;34m)\u001b[0m \u001b[0;32mfrom\u001b[0m \u001b[0;32mNone\u001b[0m\u001b[0;34m\u001b[0m\u001b[0;34m\u001b[0m\u001b[0m\n\u001b[0m\u001b[1;32m   1220\u001b[0m             \u001b[0;32mexcept\u001b[0m \u001b[0mException\u001b[0m\u001b[0;34m:\u001b[0m\u001b[0;34m\u001b[0m\u001b[0;34m\u001b[0m\u001b[0m\n\u001b[1;32m   1221\u001b[0m                 \u001b[0mself\u001b[0m\u001b[0;34m.\u001b[0m\u001b[0mlog\u001b[0m\u001b[0;34m.\u001b[0m\u001b[0mwarning\u001b[0m\u001b[0;34m(\u001b[0m\u001b[0;34m\"Invalid Message:\"\u001b[0m\u001b[0;34m,\u001b[0m \u001b[0mexc_info\u001b[0m\u001b[0;34m=\u001b[0m\u001b[0;32mTrue\u001b[0m\u001b[0;34m)\u001b[0m\u001b[0;34m\u001b[0m\u001b[0;34m\u001b[0m\u001b[0m\n",
            "\u001b[0;31mKeyboardInterrupt\u001b[0m: Interrupted by user"
          ]
        }
      ],
      "source": [
        "'''a = \"hello world\"\n",
        "print(a)\n",
        "\n",
        "print(type(a))\n",
        "\n",
        "b = 10\n",
        "print(type(b))\n",
        "\n",
        "c = 10.6\n",
        "print(type(c))\n",
        "\n",
        "d = [1,3,4,5,6,3,3,5,6,5,4]\n",
        "print(type(d))\n",
        "\n",
        "e = (\"Saad\", \"Hashim\", \"Class\", 11)\n",
        "print(type(e))\n",
        "\n",
        "f = {\"Password\": \"12345\"}\n",
        "print(type(f))\n",
        "\n",
        "g = 10+2j\n",
        "print(type(g))\n",
        "\n",
        "h = input(\"Enter input: \")\n",
        "print(h)'''\n",
        "\n",
        "from datetime import date\n",
        "from datetime import datetime\n",
        "from pytz import timezone\n",
        "time = timezone(\"Asia/Kolkata\")\n",
        "t = datetime.now()\n",
        "d = date.today()\n",
        "\n",
        "t_now = t.strftime(\"%H:%M:%S\")\n",
        "\n",
        "Item_1 = input(\"Enter the name of your first item\")\n",
        "Item_2 = input(\"Enter the name of your second item\")\n",
        "Item_3 = input(\"Enter the name of your third item\")\n",
        "Cost_1 = int(input(\"Enter the cost of your first item\"))\n",
        "Cost_2 = int(input(\"Enter the cost of your second item\"))\n",
        "Cost_3 = int(input(\"Enter the cost of your third item\"))\n",
        "Quantity_1 = int(input(\"Enter the quantity of your first item\"))\n",
        "Quantity_2 = int(input(\"Enter the quantity of your second item\"))\n",
        "Quantity_3 = int(input(\"Enter the quantity of your third item\"))\n",
        "\n",
        "\n",
        "Final_1 = Cost_1*Quantity_1\n",
        "Final_2 = Cost_2*Quantity_2\n",
        "Final_3 = Cost_3*Quantity_3\n",
        "\n",
        "GST = 0.0\n",
        "Total = float(Final_1 + Final_2 + Final_3)\n",
        "GST = 0.18*Total\n",
        "\n",
        "\n",
        "print(\"+++++++++++++++++++++++++++++++++++++++++++++++++++++++++++++++++++++++++\")\n",
        "print(d,\"\\t\\t\\t\", \"Bill/Invoice\", \"\\t\\t\\t\", t_now)\n",
        "print(\"+++++++++++++++++++++++++++++++++++++++++++++++++++++++++++++++++++++++++\")\n",
        "\n",
        "print(\"\\n\", \"Item name\", \"\\t\\t\", \"Cost\", \"\\t\\t\", \"Quantity\", \"\\t\", \"Total\\n\")\n",
        "\n",
        "print(Item_1,\"\\t\\t\\t\",Cost_1,\"\\t\\t\",Quantity_1,\"\\t\\t\",Final_1,\"\\n\")\n",
        "print(Item_2,\"\\t\\t\\t\",Cost_2,\"\\t\\t\",Quantity_2,\"\\t\\t\",Final_2,\"\\n\")\n",
        "print(Item_3,\"\\t\\t\\t\",Cost_3,\"\\t\\t\",Quantity_3,\"\\t\\t\",Final_3,\"\\n\")\n",
        "\n",
        "\n",
        "print(\"Total amount before tax\", \"\\t\\t\\t\\t\",Total)\n",
        "print(\"Tax @ 18%\",\"\\t\\t\\t\\t\\t\\t\",(GST))\n",
        "\n",
        "print(\"—————————————————————————————————————————————————————————————————————————\")\n",
        "print(\"Final amount after tax\",\"\\t\\t\\t\\t\\t\", Total+GST)\n",
        "print(\"—————————————————————————————————————————————————————————————————————————\")\n",
        "\n",
        "import datetime\n",
        "print(dir(datetime))"
      ]
    },
    {
      "cell_type": "code",
      "source": [],
      "metadata": {
        "id": "ZfnEJ6SI7krC"
      },
      "execution_count": null,
      "outputs": []
    }
  ]
}