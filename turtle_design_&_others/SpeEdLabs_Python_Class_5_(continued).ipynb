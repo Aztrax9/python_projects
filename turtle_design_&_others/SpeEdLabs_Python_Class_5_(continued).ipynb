{
  "nbformat": 4,
  "nbformat_minor": 0,
  "metadata": {
    "colab": {
      "provenance": [],
      "authorship_tag": "ABX9TyMsgno2wen8F0iYq12FaWbW",
      "include_colab_link": true
    },
    "kernelspec": {
      "name": "python3",
      "display_name": "Python 3"
    },
    "language_info": {
      "name": "python"
    }
  },
  "cells": [
    {
      "cell_type": "markdown",
      "metadata": {
        "id": "view-in-github",
        "colab_type": "text"
      },
      "source": [
        "<a href=\"https://colab.research.google.com/github/Aztrax9/python_projects/blob/main/SpeEdLabs_Python_Class_5_(continued).ipynb\" target=\"_parent\"><img src=\"https://colab.research.google.com/assets/colab-badge.svg\" alt=\"Open In Colab\"/></a>"
      ]
    },
    {
      "cell_type": "code",
      "execution_count": null,
      "metadata": {
        "id": "UK8uEvAn2QVk"
      },
      "outputs": [],
      "source": [
        "#TURTLE CIRCLE WITH SQUARES ON OUTSIDE AND DOTS AT THE END OF EACH SQUARE\n",
        "\n",
        "from turtle import *\n",
        "t=Turtle()\n",
        "s=Screen()\n",
        "for i in range(18):\n",
        "  t.circle(80,20)\n",
        "  t.dot(10)\n",
        "  for j in range(4):\n",
        "    t.left(-90)\n",
        "    t.forward(20)"
      ]
    },
    {
      "cell_type": "code",
      "source": [
        "#Print this output:\n",
        "   #Value of i: 0\n",
        "   #0 1 2 3 4 5 6 7 8 9\n",
        "   #Value of i: 1\n",
        "   #0 1 2 3 4 5 6 7 8 9\n",
        "   #Value of i: 2\n",
        "   #0 1 2 3 4 5 6 7 8 9\n",
        "   #Value of i: 3\n",
        "   #0 1 2 3 4 5 6 7 8 9\n",
        "   #Value of i: 4\n",
        "   #0 1 2 3 4 5 6 7 8 9\n",
        "   #Value of i: 5\n",
        "   #0 1 2 3 4 5 6 7 8 9\n",
        "\n",
        "x = int(input(\"Enter value of i: \"))\n",
        "for i in range(x+1):\n",
        "  print(\"Value of i:\", i)\n",
        "  for j in range(10):\n",
        "    print(j)"
      ],
      "metadata": {
        "id": "7eEqqv-D6JJq"
      },
      "execution_count": null,
      "outputs": []
    },
    {
      "cell_type": "code",
      "source": [
        "#MULTIPLICATION TABLE OF NUMBERS 2-10\n",
        "print(\"MULTIPLICATION TABLE\")\n",
        "\n",
        "n = int(input(\"Enter n: \"))\n",
        "m = int(input(\"Enter m: \"))\n",
        "x = 1\n",
        "\n",
        "for i in range(n,m):\n",
        "  for j in range(1,11):\n",
        "    x = n*j\n",
        "    print(n, \"*\", j, \"=\", x)\n",
        "  print(\"\\n\")"
      ],
      "metadata": {
        "id": "yS4I8EWy87Ni",
        "colab": {
          "base_uri": "https://localhost:8080/"
        },
        "outputId": "8169591a-25b1-47d3-af3d-89360bc2d5e3"
      },
      "execution_count": 2,
      "outputs": [
        {
          "output_type": "stream",
          "name": "stdout",
          "text": [
            "MULTIPLICATION TABLE\n",
            "Enter n: 5\n",
            "Enter m: 10\n",
            "5 * 1 = 5\n",
            "5 * 2 = 10\n",
            "5 * 3 = 15\n",
            "5 * 4 = 20\n",
            "5 * 5 = 25\n",
            "5 * 6 = 30\n",
            "5 * 7 = 35\n",
            "5 * 8 = 40\n",
            "5 * 9 = 45\n",
            "5 * 10 = 50\n",
            "\n",
            "\n",
            "5 * 1 = 5\n",
            "5 * 2 = 10\n",
            "5 * 3 = 15\n",
            "5 * 4 = 20\n",
            "5 * 5 = 25\n",
            "5 * 6 = 30\n",
            "5 * 7 = 35\n",
            "5 * 8 = 40\n",
            "5 * 9 = 45\n",
            "5 * 10 = 50\n",
            "\n",
            "\n",
            "5 * 1 = 5\n",
            "5 * 2 = 10\n",
            "5 * 3 = 15\n",
            "5 * 4 = 20\n",
            "5 * 5 = 25\n",
            "5 * 6 = 30\n",
            "5 * 7 = 35\n",
            "5 * 8 = 40\n",
            "5 * 9 = 45\n",
            "5 * 10 = 50\n",
            "\n",
            "\n",
            "5 * 1 = 5\n",
            "5 * 2 = 10\n",
            "5 * 3 = 15\n",
            "5 * 4 = 20\n",
            "5 * 5 = 25\n",
            "5 * 6 = 30\n",
            "5 * 7 = 35\n",
            "5 * 8 = 40\n",
            "5 * 9 = 45\n",
            "5 * 10 = 50\n",
            "\n",
            "\n",
            "5 * 1 = 5\n",
            "5 * 2 = 10\n",
            "5 * 3 = 15\n",
            "5 * 4 = 20\n",
            "5 * 5 = 25\n",
            "5 * 6 = 30\n",
            "5 * 7 = 35\n",
            "5 * 8 = 40\n",
            "5 * 9 = 45\n",
            "5 * 10 = 50\n",
            "\n",
            "\n"
          ]
        }
      ]
    }
  ]
}
